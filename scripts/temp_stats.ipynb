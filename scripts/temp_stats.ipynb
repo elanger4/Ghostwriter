{
 "cells": [
  {
   "cell_type": "code",
   "execution_count": 1,
   "metadata": {
    "collapsed": true
   },
   "outputs": [],
   "source": [
    "import numpy as np\n",
    "from common_lib.lyrics_database import LyricsDatabase"
   ]
  },
  {
   "cell_type": "code",
   "execution_count": 2,
   "metadata": {
    "collapsed": true
   },
   "outputs": [],
   "source": [
    "lyrics_dir = '/data1/nlp-data/ghostwriter/data/top-selling-rappers-cleaned-json'\n",
    "ld = LyricsDatabase(lyrics_dir)"
   ]
  },
  {
   "cell_type": "code",
   "execution_count": 3,
   "metadata": {
    "collapsed": false
   },
   "outputs": [
    {
     "name": "stdout",
     "output_type": "stream",
     "text": [
      "14\n"
     ]
    }
   ],
   "source": [
    "artists = ld.get_artists_names()\n",
    "print(len(artists))"
   ]
  },
  {
   "cell_type": "code",
   "execution_count": 28,
   "metadata": {
    "collapsed": false
   },
   "outputs": [
    {
     "name": "stdout",
     "output_type": "stream",
     "text": [
      "eminem 253 1429 12393 18 5.6 2.7\n",
      "sage_francis 108 570 8082 23 5.3 4.3\n",
      "2pac_makaveli 102 660 5776 28 6.5 3.6\n",
      "fabolous 190 892 8304 15 4.7 2.1\n",
      "drake 144 665 6064 15 4.6 2.3\n",
      "lil_wayne 312 1564 10848 16 5.0 2.5\n",
      "gza 77 287 6845 10 3.7 1.9\n",
      "kanye_west 147 840 7007 14 5.7 2.4\n",
      "jay 216 1245 9596 18 5.8 2.3\n",
      "dmx 174 819 5593 11 4.7 2.0\n",
      "aesop_rock 109 549 11815 17 5.0 3.0\n",
      "notorious_b.i.g. 75 426 5465 17 5.7 2.6\n",
      "kool_keith 336 1444 13280 11 4.3 1.8\n",
      "too_$hort 237 1235 7396 17 5.2 2.6\n"
     ]
    }
   ],
   "source": [
    "stat = {}\n",
    "for a in artists:\n",
    "    lyrics = ld.get_lyrics_from_artist(a)\n",
    "    num_of_lyrics = len(lyrics)\n",
    "    \n",
    "    verses_len = []\n",
    "    for l in lyrics:\n",
    "        nov = 0\n",
    "        count_of_tokens = 0\n",
    "        for token in l:\n",
    "            if token == '<startVerse>':\n",
    "                count_of_tokens = 0\n",
    "            elif token == '<endVerse>':\n",
    "                if count_of_tokens >= 20:\n",
    "                    nov += 1\n",
    "            else:\n",
    "                if isinstance(token, list):\n",
    "                    count_of_tokens += len(token)\n",
    "    \n",
    "        verses_len.append(nov)\n",
    "        \n",
    "    np_arr = np.array(verses_len)\n",
    "    all_nov = np_arr.sum()\n",
    "    min_nov = np_arr.min()\n",
    "    max_nov = np_arr.max()\n",
    "    mean_nov = np_arr.mean()\n",
    "    std_nov = np_arr.std()\n",
    "        \n",
    "    all_tokens = ld.get_lyrics_from_artist_as_plain_list(a)\n",
    "    uniq_vocab = len(set(all_tokens))\n",
    "        \n",
    "    print(a, num_of_lyrics, all_nov, uniq_vocab, max_nov, round(mean_nov,1), round(std_nov,1))"
   ]
  },
  {
   "cell_type": "code",
   "execution_count": 22,
   "metadata": {
    "collapsed": false
   },
   "outputs": [],
   "source": [
    "l = ld.get_lyrics_from_artist_as_plain_list(artists[0])"
   ]
  },
  {
   "cell_type": "code",
   "execution_count": 25,
   "metadata": {
    "collapsed": false,
    "scrolled": true
   },
   "outputs": [
    {
     "name": "stdout",
     "output_type": "stream",
     "text": [
      "199536 12393\n"
     ]
    }
   ],
   "source": [
    "print(len(l),len(set(l)))"
   ]
  },
  {
   "cell_type": "code",
   "execution_count": null,
   "metadata": {
    "collapsed": true
   },
   "outputs": [],
   "source": []
  }
 ],
 "metadata": {
  "kernelspec": {
   "display_name": "Python 3",
   "language": "python",
   "name": "python3"
  },
  "language_info": {
   "codemirror_mode": {
    "name": "ipython",
    "version": 3
   },
   "file_extension": ".py",
   "mimetype": "text/x-python",
   "name": "python",
   "nbconvert_exporter": "python",
   "pygments_lexer": "ipython3",
   "version": "3.4.3"
  }
 },
 "nbformat": 4,
 "nbformat_minor": 0
}
