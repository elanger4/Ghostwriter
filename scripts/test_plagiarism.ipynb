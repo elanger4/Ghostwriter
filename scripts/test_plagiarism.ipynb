{
 "cells": [
  {
   "cell_type": "code",
   "execution_count": 9,
   "metadata": {
    "collapsed": true
   },
   "outputs": [],
   "source": [
    "%matplotlib inline"
   ]
  },
  {
   "cell_type": "code",
   "execution_count": 27,
   "metadata": {
    "collapsed": false
   },
   "outputs": [],
   "source": [
    "import io\n",
    "import os\n",
    "import math\n",
    "from collections import defaultdict\n",
    "import numpy as np\n",
    "import pandas as pd\n",
    "import matplotlib.pyplot as plt\n",
    "from scipy.sparse import csr_matrix,dok_matrix, lil_matrix\n",
    "from sklearn.feature_extraction.text import CountVectorizer,  TfidfTransformer, TfidfVectorizer\n",
    "from sklearn.metrics.pairwise import cosine_similarity\n",
    "from sklearn.cross_validation import train_test_split\n",
    "\n",
    "from markov_model.n_gram import NGramModel\n",
    "from common_lib.lyrics_database import LyricsDatabase\n",
    "from common_lib.parse_lyrics import parse_lyrics"
   ]
  },
  {
   "cell_type": "code",
   "execution_count": 2,
   "metadata": {
    "collapsed": false,
    "scrolled": false
   },
   "outputs": [],
   "source": [
    "def generate_lyric(lyrics, n_gram, num_verses=1):\n",
    "    ghostwriter = NGramModel(lyrics, n_gram)\n",
    "\n",
    "    print(ghostwriter.n)\n",
    "    \n",
    "    history = ['<startVerse>']\n",
    "\n",
    "    result_lyric = io.StringIO()\n",
    "\n",
    "    verses = 0 \n",
    "    counter = 0\n",
    "    current = ''\n",
    "    while verses < num_verses and counter < 200:\n",
    "        nextToken = ghostwriter.genNextToken( history )\n",
    "\n",
    "        if nextToken == '<startVerse>':\n",
    "            continue\n",
    "\n",
    "        if nextToken != '<endLine>' and nextToken != '<endVerse>':\n",
    "            result_lyric.write(str(nextToken))\n",
    "            result_lyric.write(' ')\n",
    "            print(str(nextToken) + ' ', end='')\n",
    "        elif nextToken == '<endLine>':\n",
    "            result_lyric.write('\\n')\n",
    "            print()\n",
    "        elif nextToken == '<endVerse>':\n",
    "            result_lyric.write('\\n\\n')\n",
    "            print()\n",
    "            print()\n",
    "            verses += 1\n",
    "\n",
    "        if len(history) < n_gram-1:\n",
    "            history.append(nextToken)\n",
    "        else:\n",
    "            history.pop(0)\n",
    "            history.append(nextToken)\n",
    "\n",
    "        if nextToken == '<endVerse>':\n",
    "            history = ['<startVerse>']\n",
    "\n",
    "\n",
    "        current = nextToken\n",
    "        counter += 1\n",
    "        \n",
    "        \n",
    "    return result_lyric.getvalue()"
   ]
  },
  {
   "cell_type": "code",
   "execution_count": 3,
   "metadata": {
    "collapsed": true
   },
   "outputs": [],
   "source": [
    "def create_docs(lyrics_verses, generated_lyrics):\n",
    "    docs = [generated_lyrics]\n",
    "    \n",
    "    is_skip = lambda s : s == '<startVerse>' or s == '<endVerse>' or s == '<endLine>'\n",
    "    docs.extend([' '.join([t for t in v if not is_skip(t)]) for v in lyrics_verses])\n",
    "    \n",
    "    return docs"
   ]
  },
  {
   "cell_type": "code",
   "execution_count": 4,
   "metadata": {
    "collapsed": true
   },
   "outputs": [],
   "source": [
    "def calc_similarity(lyrics_verses, generated_lyrics):\n",
    "    docs = create_docs(lyrics_verses, generated_lyrics)\n",
    "    N = len(docs)\n",
    "    \n",
    "    count_vectorizer = CountVectorizer()\n",
    "    count_data = count_vectorizer.fit_transform(docs).toarray()\n",
    "\n",
    "    weight_data = dok_matrix(count_data.shape)\n",
    "\n",
    "    # save nj\n",
    "    njs = weight_data.shape[1]*[0]\n",
    "    for j in range(0, weight_data.shape[1]):\n",
    "        nnz = 0\n",
    "        for i in range(0,weight_data.shape[0]):\n",
    "            if count_data[i,j] != 0:\n",
    "                nnz += 1\n",
    "        nj = math.log(N/nnz)\n",
    "        njs[j] = nj\n",
    "    print('nj saved!')\n",
    "\n",
    "    for i in range(0, weight_data.shape[0]):\n",
    "        for j in range(0, weight_data.shape[1]):\n",
    "            w = count_data[i,j] * njs[j]\n",
    "            if w != 0:\n",
    "                weight_data[i,j] = w\n",
    "                \n",
    "    similarities = cosine_similarity(weight_data[0,], weight_data[1:,])\n",
    "    \n",
    "    \n",
    "    return similarities"
   ]
  },
  {
   "cell_type": "code",
   "execution_count": 33,
   "metadata": {
    "collapsed": true
   },
   "outputs": [],
   "source": [
    "def save_lyrics(lyrics, filename):\n",
    "    with open(filename, 'w') as f:\n",
    "        f.write(lyrics)"
   ]
  },
  {
   "cell_type": "markdown",
   "metadata": {},
   "source": [
    "Similarity of n-gram model\n",
    "==============="
   ]
  },
  {
   "cell_type": "code",
   "execution_count": 32,
   "metadata": {
    "collapsed": true
   },
   "outputs": [],
   "source": [
    "lyrics_dir = '/data1/nlp-data/ghostwriter/data/top-selling-rappers-cleaned-json'\n",
    "generated_song_dir = '/data1/nlp-data/ghostwriter/data/generated_lyrics/'"
   ]
  },
  {
   "cell_type": "code",
   "execution_count": null,
   "metadata": {
    "collapsed": true
   },
   "outputs": [],
   "source": [
    "ld = LyricsDatabase(lyrics_dir)"
   ]
  },
  {
   "cell_type": "code",
   "execution_count": 22,
   "metadata": {
    "collapsed": false
   },
   "outputs": [
    {
     "name": "stdout",
     "output_type": "stream",
     "text": [
      "Artist: fabolous Tokens: 112448\n"
     ]
    }
   ],
   "source": [
    "artists = ld.get_artists_names()\n",
    "artist = artists[3]\n",
    "\n",
    "lyrics_verses = ld.get_lyrics_from_artist_as_list_of_verses(artist)\n",
    "lyrics_one_list = ld.get_lyrics_from_artist_as_plain_list(artist)\n",
    "print('Artist:', artist, 'Tokens:', len(lyrics_one_list))"
   ]
  },
  {
   "cell_type": "code",
   "execution_count": 34,
   "metadata": {
    "collapsed": false,
    "scrolled": true
   },
   "outputs": [
    {
     "name": "stdout",
     "output_type": "stream",
     "text": [
      "2\n",
      "buy you to give a b s underneath \n",
      "mami s beef \n",
      "talking bout the clip in the purple broke niggas online reply why wouldn t mind the money y all these mean that we good as yourself \n",
      "find in it i m back when a seven digits even quicker to the block like that \n",
      "or not tape 3 and talk that the kid s the soul \n",
      "\n",
      "\n",
      "nj saved!\n",
      "2\n",
      "fabolous strive to know you \n",
      "like the shit i know a hoe \n",
      "you should i might seem to move that s no 2 3 s dope fiend to get lost somethin ma in a domestic ho your head is gettin through \n",
      "couple of rambos \n",
      "bbm cool \n",
      "\n",
      "\n",
      "nj saved!\n",
      "2\n",
      "just to the precinct \n",
      "and hang like she a hellichoppers land you still \n",
      "that s it s the world see these \n",
      "you still here we gon na hug \n",
      "never get to grab on the last \n",
      "they sit in the check is take the new year i m back of nigga \n",
      "they call meee \n",
      "nah \n",
      "i m the bitches that money talks in st pats socks \n",
      "\n",
      "\n",
      "nj saved!\n",
      "2\n",
      "call yourself \n",
      "clue s with you playing catch up dead if i m squintin like a h3 \n",
      "niggas throw niggas mouths i ain t even when i just like kobe \n",
      "\n",
      "\n",
      "nj saved!\n",
      "2\n",
      "diddy said them crackers \n",
      "i don t with the fat and mutumbo used to the fur gucci t no bread is heavy thing cause y all yo hood \n",
      "crocodile heard if i done bought that i don t look up cut the side \n",
      "blow that new gents \n",
      "bitch bounce had \n",
      "it s the family business minded but my aids \n",
      "i look young niggaz with yo the week is full of nike low \n",
      "\n",
      "\n",
      "nj saved!\n",
      "3\n",
      "fabolous \n",
      "\n",
      "\n",
      "nj saved!\n",
      "3\n",
      "yeah \n",
      "\n",
      "\n",
      "nj saved!\n",
      "3\n",
      "now some niggas ll pitch \n",
      "you at least you signed \n",
      "ya insides be burnin my chest \n",
      "this is how you this \n",
      "where the gats and base is i don t care where the cops think me and be getting head from brunettes in a cohiba \n",
      "it s always money to be part of my world in a yolk \n",
      "you heard \n",
      "real re really tho \n",
      "real nigga then who you bringing wit you searching the vehicle \n",
      "and any chick that got these niggaz can t buy what you tryna plea \n",
      "and i know oh oh oh oh oh oh ohh oh oh oh oh oh \n",
      "\n",
      "\n",
      "nj saved!\n",
      "3\n",
      "see i i i am never duplicated \n",
      "\n",
      "\n",
      "nj saved!\n",
      "3\n",
      "swag champ i got the cannon yea that nigga playa \n",
      "first i took her down she tryin to wrap they sentances up \n",
      "if i m hardly here got ta closet made for correction \n",
      "and we both knowin what you can t wear skinny jeans cause her ass kissed \n",
      "walks like she mine \n",
      "what s up how you do them if you look away and still fucking and making them hoes in the dark \n",
      "cause i m rich and i need to stop and it goes down 2x \n",
      "\n",
      "\n",
      "nj saved!\n",
      "4\n",
      "shine bright tonight you and i \n",
      "we re so out of here baby yo let s go loso \n",
      "when i got signed like len bias on draft night \n",
      "niggaz street dreams \n",
      "at one time or another \n",
      "fast cars cash \n",
      "money hustlin \n",
      "c mon ma come and get lost with me \n",
      "i d probably be with nick and rome spending my whole day shacked in \n",
      "for now i just be lookin down at these freaks in amazement \n",
      "with a watch and bracelet this flooded and a cross this sick \n",
      "so why don tcha turn your back to the city call up the committee \n",
      "get ready for tomorrow they comin in with fifty \n",
      "i almost forgot i got ta celebrate that s the bad guy come on \n",
      "what type of drinks he be sippin \n",
      "sweet thing just to think of you dippin \n",
      "would have me with the blue s so hard you would think i was crippin \n",
      "now you with your wheel like a roller skater \n",
      "pullin out the lot you tell your friends what s real \n",
      "wait a minute dammit what s nj saved!\n",
      "4\n",
      "rollin gold two seater \n",
      "damn i ain t say you gon duck stress \n",
      "i ain t gone lie to ya \n",
      "make it sound like i m \n",
      "it probably don t seem like a struggle \n",
      "sometime i wan na hug the block sometime i wan na be yo wake up call \n",
      "kiss yo face before you put that arch in it put that hand on yo hip \n",
      "put yo hair in a mess don t even get dress \n",
      "just put it in a body bag \n",
      "fifth tucked then what bullets hit your body fast \n",
      "we done came out the oven wild \n",
      "my flow is city slick slow it down and i ma keep hittin y all like an abusive pops \n",
      "\n",
      "\n",
      "nj saved!\n",
      "4\n",
      "ma you musta had too many weed totes \n",
      "cause i love the way i pull up pull out pull back \n",
      "them niggaz that be runnin the coke house for me \n",
      "i don t plan to recede \n",
      "sometime i wan na fight is gettin sleep cause i eat and go to sleep \n",
      "you know me no stranger \n",
      "hang like a dangler bitch look like topanga \n",
      "that boy be on his shoot first never mind the trivia \n",
      "my advice don t mess with his man word to nivea \n",
      "we go from belly \n",
      "i don t know what imma do but i mma do it \n",
      "i got a full clip \n",
      "you got ta \n",
      "queens got ta \n",
      "queens got ta \n",
      "breathe \n",
      "oh breathe \n",
      "breathe \n",
      "\n",
      "\n",
      "nj saved!\n",
      "4\n",
      "if you wan na leave the one you with \n",
      "but i got enough sets of twins to make doublemint commercials \n",
      "after trying x i can only imagine what y all do it just keep it gangsta but i m gettin chauf i m in a float \n",
      "that new chain just came in guess what my neck be out \n",
      "funny i be goin out my way to call \n",
      "and they fighting for my life i look for some with a little attitude \n",
      "i m joking you don t know what imma do but i mma do it \n",
      "that is what it is man i see you with that damn thang \n",
      "got my vote i m feelin like i m supposed \n",
      "but if we on the same page we can read each other \n",
      "in to taking showers together \n",
      "they know the way i walk \n",
      "they love me in cleveland everytime i travel there \n",
      "i m raw \n",
      "so hearing that any nigga out cook me \n",
      "is suspect as r kelly with girl scout cookies \n",
      "when you sittin in the crib like it s tainted \n",
      "but i nj saved!\n",
      "4\n",
      "me and fab are very special \n",
      "all my niggas drivin foreigns so we spazzed out \n",
      "\n",
      "\n",
      "nj saved!\n",
      "5\n",
      "la la la la la la la \n",
      "\n",
      "\n",
      "nj saved!\n",
      "5\n",
      "when that hate don t work they start tellin lies \n",
      "baby work go on bust it wide \n",
      "it s that man that back to back plat scan \n",
      "i m back for new money \n",
      "just i think i left somethin \n",
      "\n",
      "\n",
      "nj saved!\n",
      "5\n",
      "i guess she forgot how i used to hold her \n",
      "the nights she was goin through it \n",
      "crying on my shoulder \n",
      "and did a 360 it s like she got colder \n",
      "i m starting to regret all the things that i showed her \n",
      "but i m here now and i don t who invented high heels \n",
      "but i swear to god the next nigga i give it to em like no other brother can \n",
      "she say my man can barley move me \n",
      "but boy you make me scream like a scary movie \n",
      "on top of that i m smoother than white vanilla fudge and white and yellow studs \n",
      "cause if they witness how i m killing them out her \n",
      "these girls just might go tell the judge i rest my case i m a rappin lawyer \n",
      "that s unless you wan na talk bad bitches \n",
      "section full of bridezillas that s mad bitches \n",
      "no words i describe em with letters best \n",
      "they pretty as can b be curvy as the letter s \n",
      "they keep it g they sweet as t tea \n",
      "look good nj saved!\n",
      "5\n",
      "i m ridin round and i m gettin it \n",
      "i m so so def like a j d remix \n",
      "i got enough whips to keep switchin up flavors \n",
      "drafted outta high school straight into the majors \n",
      "these haters fake smiles but they hardly like me \n",
      "they hate to see me rich they d rather see me stuck in the pen \n",
      "front to back you a ten \n",
      "you got me thinkin bout puttin a car seat in back of the benz uh \n",
      "\n",
      "\n",
      "nj saved!\n",
      "5\n",
      "we say death before dishonour \n",
      "the scent that you smellin on my breath is marijuana fore i left to tijuana \n",
      "i told em get money that s the best solution \n",
      "when you do wear your rocket like you rest in houston \n",
      "when niggas stole my style i ain t stress the boostin \n",
      "it s time to make history \n",
      "just hop in here up on this hit streak \n",
      "how the how the how the how the how the hell you gon na evict me \n",
      "you know i cross the border for a canadian \n",
      "i need a slick mouth thick south brickhouse \n",
      "or i may date a rate playmate \n",
      "ten in the face thin in the waist \n",
      "tight in the thighs light in the eyes \n",
      "even those \n",
      "who think they the shit \n",
      "i keep my \n",
      "walkin on pedicured paws \n",
      "touchin wit manicured claws \n",
      "if you waxed down and tanned up \n",
      "then let me see ya hands up \n",
      "now everybody get your hands up \n",
      "all my ladies killin em get them hands up \n",
      "keep them hands up up \n",
      "\n",
      "\n",
      "nj saved!\n",
      "6\n",
      "nothing is too much everything you touch turns to gold \n",
      "you make me better you make me better \n",
      "you make me better you make me better \n",
      "you make me better you make me better \n",
      "you make me better you make me better \n",
      "you make me better you make me better \n",
      "you make me better you make me better \n",
      "i m fly as i can be but when you re with me \n",
      "i can t help but notice i m more focused \n",
      "girl you are so \n",
      "\n",
      "\n",
      "nj saved!\n",
      "6\n",
      "it s the hoodrat hugh hefner that bend dimes too \n",
      "the five plus one sittin on ten times two \n",
      "shorty when i m through \n",
      "i m a know if you nice on the mic and if your friend rhyme too \n",
      "it s so funny how i suit the women \n",
      "they know i m hood rich donald trump of the pumpers \n",
      "i run with the shooters forest gump with the dumpers \n",
      "lambo loso flyin spur spiz \n",
      "got ya bitch on the right she mindin her biz \n",
      "you ain t never gon finger a trigger \n",
      "all you do is look in the mugshot book and finger a nigga \n",
      "i real recognize real you d be a john doe \n",
      "you livin in a closet and call it a condo \n",
      "i don t member you as a slinger that was on the bench \n",
      "just a little scrub ass ringer in the tournaments \n",
      "now they try to blame the fall of hip hop on fans \n",
      "nah i think its these hip hop con mans \n",
      "studio gangstas is played out now \n",
      "this ain t the eighties battle raps nj saved!\n",
      "6\n",
      "now who s hot who s not \n",
      "i can take the few shots you ve got \n",
      "i can burn a few knots you ve got \n",
      "i can blow the few spots you ve got \n",
      "but i chill i will \n",
      "get it to poppin whenever i feel \n",
      "i still shut it down \n",
      "and i white and yellow stud it down \n",
      "watch them pretty girls strut it round \n",
      "take the birdies and putt it down \n",
      "like tiger woods did it but i m hood with it \n",
      "you ve never seen a thug look as good with it \n",
      "and i promise that \n",
      "fuck with me you better move where sama s at \n",
      "you see i m in here with the white ones on \n",
      "tryin to get fucked up for the lights come on \n",
      "\n",
      "\n",
      "nj saved!\n",
      "6\n",
      "here with the white and the canary cross \n",
      "bracelets to match diamonds clear of floss \n",
      "convertible hard top in a carrera porsche \n",
      "i m young but i m damn near a boss \n",
      "and of course your boy ride with a thing in the stash box \n",
      "quick to hit the button even quicker to blast shots \n",
      "nobody gon na eat less we see chips \n",
      "this not even funny not the way we freak chicks \n",
      "my waiters make ladies see sick \n",
      "i m so so def like a j d remix \n",
      "i got enough whips to keep switchin up flavors \n",
      "drafted outta high school straight into the majors \n",
      "these haters fake smiles but they hardly like me \n",
      "they hate to see me rich they d rather see me stuck in the pen \n",
      "everytime they walk or pull up beside me \n",
      "flash lights in my face askin for my registration and id \n",
      "i don t know what imma do but i mma do it \n",
      "i got money on my head but im ridin in a drop drop drop drop \n",
      "\n",
      "\n",
      "nj saved!\n",
      "6\n",
      "yeah i m in this bitchh \n",
      "sending champagne to my enemys \n",
      "salute or shoot you choose motherfucker \n",
      "bow down till your head touch your shoes motherfucker \n",
      "salute me salute me salute me salute me salute me \n",
      "salute or shoot you choose motherfucker \n",
      "bow down till your head touch your shoes motherfucker \n",
      "salute me salute me salute me \n",
      "salute or shoot you choose motherfucker \n",
      "bow down till your head touch your shoes motherfucker \n",
      "salute me salute me salute me \n",
      "salute or shoot you choose motherfucker \n",
      "bow down till your head touch your shoes motherfucker \n",
      "salute me echoes \n",
      "\n",
      "\n",
      "nj saved!\n",
      "7\n",
      "hit the scene sippin lean give a fuck bout what you \n",
      "\n",
      "\n",
      "nj saved!\n",
      "7\n",
      "you see i come from bottom but i stay on the top \n",
      "you might need a ladder shorty cause i m way on the top gangsta grizzill \n",
      "that s right i m rich and i m young like it say on my top \n",
      "and if you ask my bottom bitch bet she say i m on top \n",
      "\n",
      "\n",
      "nj saved!\n",
      "7\n",
      "yeah it s a movie get your goobers nigga \n",
      "yeah it gets deep get ya scuba nigga \n",
      "uhh i got the swipers in the gun shop \n",
      "yeah i got the shooters in the uber nigga \n",
      "woo everything brand new my nigga \n",
      "yeah lord jamar grand puba nigga \n",
      "uhh they callin me fidel castro cash flow \n",
      "yeah and the link come from cuba nigga \n",
      "woo team plastic like the ass shots \n",
      "plastic glock 9 get ya ass shot \n",
      "dream team gold chain match watch \n",
      "and the bad bitches be the mascot \n",
      "yeah got your bm in my bm nigga \n",
      "yeah she got taken word to liam nigga \n",
      "ha we ain t got ta be a hundred deep \n",
      "i d rather 10 lions than a hundred sheep \n",
      "\n",
      "\n",
      "nj saved!\n",
      "7\n",
      "you see the white s so bright it s hard to be polite \n",
      "the yellow s so mellow i have to act ghetto \n",
      "hello my name is fuck that i m famous \n",
      "y all ain t the same as f a to the b \n",
      "i don t know what the fuck you doin \n",
      "\n",
      "\n",
      "nj saved!\n",
      "7\n",
      "forgive me father for i have sinned \n",
      "but look at all this money that i spend \n",
      "and look at all this jewlery that i m in \n",
      "and look at all the women in those brims \n",
      "look at the blue flames that i m in \n",
      "i look at all the bullshit that theres been \n",
      "and if i had another chance i d do it again \n",
      "\n",
      "\n",
      "nj saved!\n",
      "8\n",
      "ya need a mule 4 the work nigga i kno masses \n",
      "this little bitch named jackie we call her oat n asses \n",
      "and we don t use the bank nigga we do it old fashioned \n",
      "right on top of the box spring \n",
      "no matress king size but right now it s full of cash \n",
      "niggas call me the dentist they know i pull it fast \n",
      "i know you hatin niggas wan na let ya bullets blast \n",
      "the slr fully armored with da bullet glass \n",
      "i got my cleets on you ll never catch me slippin black \n",
      "red white and blue tags call em the diplomats \n",
      "it s a fact you would think i had immunity \n",
      "i came from a hood nigga not a community \n",
      "trump tower you ain t got the same room as me \n",
      "i spray ya whole click killin ya ll in unity \n",
      "philly freck got more bars more flows \n",
      "if it cost a quarter mill then trust me ya boy got it \n",
      "it cost a hundred thou trust me i boycott it \n",
      "we make it rain in the club them nj saved!\n",
      "8\n",
      "i ma go down down down \n",
      "if you bossed up i don t fuck with no clowns \n",
      "hol holla at a bitch if you wan na break bread \n",
      "my my thing bomb juice box stay wet i said \n",
      "i ma go down down down \n",
      "i ma i ma i ma go down down \n",
      "i ma go down down down \n",
      "i ma i ma i ma go down down \n",
      "i ma go down down down \n",
      "i ma i ma i ma go down down \n",
      "i ma go down down down \n",
      "if you bossed up i don t fuck with no clowns \n",
      "hol holla at a bitch if you wan na break bread \n",
      "my my thing bomb juice box stay wet i said \n",
      "\n",
      "\n",
      "nj saved!\n",
      "8\n",
      "y all don t really y all don t really y all don t really \n",
      "\n",
      "\n",
      "nj saved!\n",
      "8\n",
      "go for some food baby \n",
      "it s loso man representin brooklyn to the motherfuckin death \n",
      "fuck em all motherfuck em all whatever nigga \n",
      "\n",
      "\n",
      "nj saved!\n",
      "8\n",
      "shine bright like a diamond shine bright like a diamond \n",
      "\n",
      "\n",
      "nj saved!\n",
      "9\n",
      "uh uh yeah uh huh \n",
      "yeah yeah yeah \n",
      "\n",
      "\n",
      "nj saved!\n",
      "9\n",
      "fuck i need with another chain \n",
      "my nigga raj just seen his brother slain \n",
      "i m tryin to feel the brother pain \n",
      "cause i know it s no way i could get another caine \n",
      "bad thoughts be on a brother brain \n",
      "i ma ride i m just in another lane \n",
      "can t stand to see my mother strained \n",
      "or stressed over all the bullshits of the game \n",
      "so i m with dark skinned lorraine \n",
      "parked in the range sparks in my chains \n",
      "yeah i ve been marked in the fame \n",
      "that s why the lenses are dark in my frames \n",
      "tryin to clean dirt marks from my name \n",
      "i ignore remarks from your lames \n",
      "i know brooklyn got my back \n",
      "my rearview s the only way that i am lookin back \n",
      "to hello uh say hello uh \n",
      "to l o uh to l o s o \n",
      "\n",
      "\n",
      "nj saved!\n",
      "9\n",
      "heh oh yeah yeah oh turn me up \n",
      "uh huh uh huh \n",
      "\n",
      "\n",
      "nj saved!\n",
      "9\n",
      "y all don t really y all don t really \n",
      "\n",
      "\n",
      "nj saved!\n",
      "9\n",
      "i ll give you all my love and you can always trust \n",
      "my loyalty honesty and security \n",
      "i ll never leave can t none of these other chicks \n",
      "with me so holla at somebody real \n",
      "cause i m so real \n",
      "\n",
      "\n",
      "nj saved!\n"
     ]
    }
   ],
   "source": [
    "num_iterations = 5\n",
    "sim_data = defaultdict(lambda : np.zeros(num_iterations))\n",
    "for ngram_count in [2,3,4,5,6,7,8,9]:\n",
    "    for i in range(0,num_iterations):\n",
    "        generated_lyrics = generate_lyric(lyrics_one_list, ngram_count)\n",
    "        similarities = calc_similarity(lyrics_verses, generated_lyrics)\n",
    "        sim_data[ngram_count][i] = similarities.max()\n",
    "        \n",
    "        # save lyrics\n",
    "        name = 'lyrics_ngram' + str(ngram_count) + '_iter' + str(i) + '.txt'\n",
    "        filename = os.path.join(generated_song_dir,name)\n",
    "        save_lyrics(generated_lyrics, filename)"
   ]
  },
  {
   "cell_type": "code",
   "execution_count": 35,
   "metadata": {
    "collapsed": false
   },
   "outputs": [
    {
     "data": {
      "text/plain": [
       "<matplotlib.text.Text at 0x7facc74b7a20>"
      ]
     },
     "execution_count": 35,
     "metadata": {},
     "output_type": "execute_result"
    },
    {
     "data": {
      "image/png": "[encoded data removed]",
      "text/plain": [
       "<matplotlib.figure.Figure at 0x7facc7e1fd30>"
      ]
     },
     "metadata": {},
     "output_type": "display_data"
    }
   ],
   "source": [
    "ax = pd.DataFrame(sim_data).mean(0).plot()\n",
    "ax.set_xlabel(\"N-gram\")\n",
    "ax.set_ylabel(\"Similarity\")"
   ]
  },
  {
   "cell_type": "code",
   "execution_count": 36,
   "metadata": {
    "collapsed": false
   },
   "outputs": [
    {
     "data": {
      "text/html": [
       "<div style=\"max-height:1000px;max-width:1500px;overflow:auto;\">\n",
       "<table border=\"1\" class=\"dataframe\">\n",
       "  <thead>\n",
       "    <tr style=\"text-align: right;\">\n",
       "      <th></th>\n",
       "      <th>2</th>\n",
       "      <th>3</th>\n",
       "      <th>4</th>\n",
       "      <th>5</th>\n",
       "      <th>6</th>\n",
       "      <th>7</th>\n",
       "      <th>8</th>\n",
       "      <th>9</th>\n",
       "    </tr>\n",
       "  </thead>\n",
       "  <tbody>\n",
       "    <tr>\n",
       "      <th>0</th>\n",
       "      <td>0.199683</td>\n",
       "      <td>0.517593</td>\n",
       "      <td>0.222723</td>\n",
       "      <td>1.000000</td>\n",
       "      <td>0.709189</td>\n",
       "      <td>1.000000</td>\n",
       "      <td>0.959635</td>\n",
       "      <td>1.000000</td>\n",
       "    </tr>\n",
       "    <tr>\n",
       "      <th>1</th>\n",
       "      <td>0.240751</td>\n",
       "      <td>1.000000</td>\n",
       "      <td>0.234401</td>\n",
       "      <td>0.621820</td>\n",
       "      <td>0.586528</td>\n",
       "      <td>0.965323</td>\n",
       "      <td>0.958361</td>\n",
       "      <td>1.000000</td>\n",
       "    </tr>\n",
       "    <tr>\n",
       "      <th>2</th>\n",
       "      <td>0.259071</td>\n",
       "      <td>0.719048</td>\n",
       "      <td>0.364161</td>\n",
       "      <td>0.439185</td>\n",
       "      <td>1.000000</td>\n",
       "      <td>1.000000</td>\n",
       "      <td>0.963978</td>\n",
       "      <td>1.000000</td>\n",
       "    </tr>\n",
       "    <tr>\n",
       "      <th>3</th>\n",
       "      <td>0.139823</td>\n",
       "      <td>0.666521</td>\n",
       "      <td>0.329288</td>\n",
       "      <td>0.419997</td>\n",
       "      <td>0.731699</td>\n",
       "      <td>0.483012</td>\n",
       "      <td>0.657256</td>\n",
       "      <td>0.963978</td>\n",
       "    </tr>\n",
       "    <tr>\n",
       "      <th>4</th>\n",
       "      <td>0.185969</td>\n",
       "      <td>0.211333</td>\n",
       "      <td>0.627896</td>\n",
       "      <td>0.532948</td>\n",
       "      <td>0.988007</td>\n",
       "      <td>0.970569</td>\n",
       "      <td>1.000000</td>\n",
       "      <td>1.000000</td>\n",
       "    </tr>\n",
       "  </tbody>\n",
       "</table>\n",
       "</div>"
      ],
      "text/plain": [
       "          2         3         4         5         6         7         8  \\\n",
       "0  0.199683  0.517593  0.222723  1.000000  0.709189  1.000000  0.959635   \n",
       "1  0.240751  1.000000  0.234401  0.621820  0.586528  0.965323  0.958361   \n",
       "2  0.259071  0.719048  0.364161  0.439185  1.000000  1.000000  0.963978   \n",
       "3  0.139823  0.666521  0.329288  0.419997  0.731699  0.483012  0.657256   \n",
       "4  0.185969  0.211333  0.627896  0.532948  0.988007  0.970569  1.000000   \n",
       "\n",
       "          9  \n",
       "0  1.000000  \n",
       "1  1.000000  \n",
       "2  1.000000  \n",
       "3  0.963978  \n",
       "4  1.000000  "
      ]
     },
     "execution_count": 36,
     "metadata": {},
     "output_type": "execute_result"
    }
   ],
   "source": [
    "pd.DataFrame(sim_data)"
   ]
  },
  {
   "cell_type": "markdown",
   "metadata": {},
   "source": [
    "Finding a good example for the presentation\n",
    "========================="
   ]
  },
  {
   "cell_type": "code",
   "execution_count": 37,
   "metadata": {
    "collapsed": true
   },
   "outputs": [],
   "source": [
    "# temp - find the most similar verse\n",
    "produced_lirics_test = \"\"\"\n",
    "here with the white and the canary cross \n",
    "bracelets to match diamonds clear of floss \n",
    "convertible hard top in a carrera porsche \n",
    "i m young but i m damn near a boss \n",
    "and of course your boy ride with a thing in the stash box \n",
    "quick to hit the button even quicker to blast shots \n",
    "nobody gon na eat less we see chips \n",
    "this not even funny not the way we freak chicks \n",
    "my waiters make ladies see sick \n",
    "i m so so def like a j d remix \n",
    "i got enough whips to keep switchin up flavors \n",
    "drafted outta high school straight into the majors \n",
    "these haters fake smiles but they hardly like me \n",
    "they hate to see me rich they d rather see me stuck in the pen \n",
    "everytime they walk or pull up beside me \n",
    "flash lights in my face askin for my registration and id \n",
    "i don t know what imma do but i mma do it \n",
    "i got money on my head but im ridin in a drop drop drop drop \n",
    "\"\"\""
   ]
  },
  {
   "cell_type": "code",
   "execution_count": 82,
   "metadata": {
    "collapsed": false
   },
   "outputs": [
    {
     "name": "stdout",
     "output_type": "stream",
     "text": [
      "nj saved!\n"
     ]
    }
   ],
   "source": [
    "similarities = calc_similarity(lyrics_verses, produced_lirics_test)"
   ]
  },
  {
   "cell_type": "code",
   "execution_count": 83,
   "metadata": {
    "collapsed": false
   },
   "outputs": [
    {
     "name": "stdout",
     "output_type": "stream",
     "text": [
      "(1, 1115)\n",
      "30\n",
      "0.731698968519\n"
     ]
    }
   ],
   "source": [
    "print(similarities.shape)\n",
    "print(similarities.argmax())\n",
    "print(similarities.max())"
   ]
  },
  {
   "cell_type": "code",
   "execution_count": 47,
   "metadata": {
    "collapsed": false
   },
   "outputs": [
    {
     "name": "stdout",
     "output_type": "stream",
     "text": [
      "here with the white and the canary cross \n",
      "bracelets to match diamonds clear of floss \n",
      "convertible hard top in a carrera porsche \n",
      "i m young but i m damn near a boss \n",
      "and of course your boy ride with a thing in the stash box \n",
      "quick to hit the button even quicker to blast shots \n",
      "nobody gon na eat less we see chips \n",
      "this not even funny not the way we freak chicks \n",
      "my waiters make ladies see sick \n",
      "i m so so def like a j d remix \n",
      "i got enough whips to keep switchin up flavors \n",
      "drafted outta high school straight into the majors \n",
      "these haters fake smiles but they hardly like me \n",
      "they hate to see me in a party icy \n",
      "clean white t sippin on bacardi lightly \n",
      "suade low cut force one caramel nightly \n"
     ]
    }
   ],
   "source": [
    "for t in lyrics_verses[30]:\n",
    "    if t == '<startVerse>' or t == '<endVerse>':\n",
    "        continue\n",
    "    elif t == '<endLine>':\n",
    "        print()\n",
    "    else:\n",
    "        print(t + ' ', end='')\n"
   ]
  },
  {
   "cell_type": "markdown",
   "metadata": {},
   "source": [
    "Similarity of LSTM\n",
    "=========="
   ]
  },
  {
   "cell_type": "code",
   "execution_count": 49,
   "metadata": {
    "collapsed": true
   },
   "outputs": [],
   "source": [
    "generated_lstm_song_dir = '/data1/nlp-data/ghostwriter/lstm-gen-lyrics/'"
   ]
  },
  {
   "cell_type": "code",
   "execution_count": 58,
   "metadata": {
    "collapsed": false
   },
   "outputs": [
    {
     "name": "stdout",
     "output_type": "stream",
     "text": [
      "nj saved!\n",
      "nj saved!\n",
      "nj saved!\n",
      "nj saved!\n",
      "nj saved!\n",
      "nj saved!\n",
      "nj saved!\n"
     ]
    }
   ],
   "source": [
    "sim_data_lstm = defaultdict(float)\n",
    "\n",
    "iterations = [1000,2000,3000,4000,5000,6000,7000]\n",
    "for i in iterations:\n",
    "    filename = os.path.join(generated_lstm_song_dir, 'fabolous' + str(i))\n",
    "    with open(filename, 'r') as f:\n",
    "        generated_lyrics = f.readlines()\n",
    "        generated_lyrics = generated_lyrics[1]\n",
    "        generated_lyrics = generated_lyrics.replace('<startVerse>', '')\n",
    "        generated_lyrics = generated_lyrics.replace('<endLine>', '')\n",
    "        generated_lyrics = generated_lyrics.replace('<endVerse>', '')\n",
    "        \n",
    "    sim_data_lstm[i] = calc_similarity(lyrics_verses, generated_lyrics)"
   ]
  },
  {
   "cell_type": "code",
   "execution_count": 78,
   "metadata": {
    "collapsed": false
   },
   "outputs": [
    {
     "name": "stdout",
     "output_type": "stream",
     "text": [
      "nj saved!\n",
      "nj saved!\n"
     ]
    }
   ],
   "source": [
    "iteration_text_manually = {}\n",
    "iteration_text_manually[7100] = 'i m old enough to know better young enough to not give a fuck  rather hold my head high and die than live and duck  member i had to take the good man and i got the crush with you  i got a deal i was on my coupe it ll ride  i just thought i m gettin a third  hold me the nigga j o  the type i never warn her lady on this s in it  they gon have to a er '\n",
    "iteration_text_manually[7200] = 'i m in the feds and leave it be like  little me with my road to life i will miss my kin  i m a hustler i dont sling of top shoes are d has like that  i m in a win win and you could beat my man diador  like i was really in these streets i used to serve that shit  we started from the bottom had to topsy turn that shit  get it while the gettins good after that preserve that shit  my swag kicks in that s when the bad guy begins  say hello uh say hello uh  to l o uh to l o s o '\n",
    "\n",
    "for k in iteration_text_manually.keys():\n",
    "    generated_lyrics = iteration_text_manually[k]\n",
    "    sim_data_lstm[k] = calc_similarity(lyrics_verses, generated_lyrics)"
   ]
  },
  {
   "cell_type": "code",
   "execution_count": 79,
   "metadata": {
    "collapsed": false
   },
   "outputs": [],
   "source": [
    "sim_data_lstm2 = {}\n",
    "for k in sim_data_lstm.keys():\n",
    "    sim_data_lstm2[k] = sim_data_lstm[k].max()"
   ]
  },
  {
   "cell_type": "code",
   "execution_count": 81,
   "metadata": {
    "collapsed": false
   },
   "outputs": [
    {
     "data": {
      "text/plain": [
       "<matplotlib.text.Text at 0x7facc609cb00>"
      ]
     },
     "execution_count": 81,
     "metadata": {},
     "output_type": "execute_result"
    },
    {
     "data": {
      "image/png": "[encoded data removed]",
      "text/plain": [
       "<matplotlib.figure.Figure at 0x7facc91ce1d0>"
      ]
     },
     "metadata": {},
     "output_type": "display_data"
    }
   ],
   "source": [
    "ax = pd.Series(sim_data_lstm2).plot(figsize=(10,10))\n",
    "ax.set_xlabel(\"Iteration\")\n",
    "ax.set_ylabel(\"Similarity\")"
   ]
  },
  {
   "cell_type": "markdown",
   "metadata": {},
   "source": [
    "Similarity of the selected by Peter verse\n",
    "========================"
   ]
  },
  {
   "cell_type": "code",
   "execution_count": 87,
   "metadata": {
    "collapsed": false
   },
   "outputs": [
    {
     "name": "stdout",
     "output_type": "stream",
     "text": [
      "nj saved!\n"
     ]
    }
   ],
   "source": [
    "name = 'fabolous_test_peter'\n",
    "filename = os.path.join(generated_lstm_song_dir, name)\n",
    "with open(filename, 'r') as f:\n",
    "    generated_lyrics = f.readlines()\n",
    "    generated_lyrics = generated_lyrics[1]\n",
    "    generated_lyrics = generated_lyrics.replace('<startVerse>', '')\n",
    "    generated_lyrics = generated_lyrics.replace('<endLine>', '')\n",
    "    generated_lyrics = generated_lyrics.replace('<endVerse>', '')    \n",
    "\n",
    "selected_peter_verse_sim = calc_similarity(lyrics_verses, generated_lyrics)"
   ]
  },
  {
   "cell_type": "code",
   "execution_count": 89,
   "metadata": {
    "collapsed": false
   },
   "outputs": [
    {
     "data": {
      "text/plain": [
       "0.41293887934474111"
      ]
     },
     "execution_count": 89,
     "metadata": {},
     "output_type": "execute_result"
    }
   ],
   "source": [
    "selected_peter_verse_sim.max()"
   ]
  },
  {
   "cell_type": "code",
   "execution_count": null,
   "metadata": {
    "collapsed": true
   },
   "outputs": [],
   "source": []
  }
 ],
 "metadata": {
  "kernelspec": {
   "display_name": "Python 3",
   "language": "python",
   "name": "python3"
  },
  "language_info": {
   "codemirror_mode": {
    "name": "ipython",
    "version": 3
   },
   "file_extension": ".py",
   "mimetype": "text/x-python",
   "name": "python",
   "nbconvert_exporter": "python",
   "pygments_lexer": "ipython3",
   "version": "3.4.3"
  }
 },
 "nbformat": 4,
 "nbformat_minor": 0
}
