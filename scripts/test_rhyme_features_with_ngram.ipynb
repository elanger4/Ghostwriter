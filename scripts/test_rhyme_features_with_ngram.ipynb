{
 "cells": [
  {
   "cell_type": "code",
   "execution_count": 17,
   "metadata": {
    "collapsed": true
   },
   "outputs": [],
   "source": [
    "%matplotlib inline"
   ]
  },
  {
   "cell_type": "code",
   "execution_count": 96,
   "metadata": {
    "collapsed": true
   },
   "outputs": [],
   "source": [
    "import os\n",
    "from random import shuffle\n",
    "import numpy as np\n",
    "import pandas as pd\n",
    "import matplotlib.pyplot as plt\n",
    "from collections import defaultdict\n",
    "from common_lib.rhyme_analizer import get_lyrics_stat\n",
    "from common_lib.lyrics_database import LyricsDatabase"
   ]
  },
  {
   "cell_type": "code",
   "execution_count": 27,
   "metadata": {
    "collapsed": true
   },
   "outputs": [],
   "source": [
    "generated_song_dir = '/data1/nlp-data/ghostwriter/data/generated_lyrics/'\n",
    "lyrics_dir = '/data1/nlp-data/ghostwriter/data/top-selling-rappers-cleaned-json'"
   ]
  },
  {
   "cell_type": "code",
   "execution_count": 10,
   "metadata": {
    "collapsed": false
   },
   "outputs": [
    {
     "data": {
      "text/plain": [
       "{'Average_End_Score': nan,\n",
       " 'Average_End_Syl_Score': nan,\n",
       " 'Bridges_per_Line': 0.0,\n",
       " 'Chaining_per_Line': 0.0,\n",
       " 'Compounds_per_Line': 0.4,\n",
       " 'Doubles_per_Rhyme': 0.2857142857142857,\n",
       " 'End_Pairs_Even': nan,\n",
       " 'End_Pairs_Grown': nan,\n",
       " 'End_Pairs_Shrunk': nan,\n",
       " 'End_Pairs_per_Line': 0.0,\n",
       " 'Line_Internals_per_Line': 1.0,\n",
       " 'Links_per_Line': 0.4,\n",
       " 'Longs_per_Rhyme': 0.0,\n",
       " 'Novel_Word_Proportion': 0.9576354679802955,\n",
       " 'Perfect_Rhymes': 0.14285714285714285,\n",
       " 'Quads_per_Rhyme': 0.0,\n",
       " 'Rhyme_Density': 0.16981132075471697,\n",
       " 'Rhymes_per_Line': 1.4,\n",
       " 'Rhymes_per_Syllable': 0.1320754716981132,\n",
       " 'Singles_per_Rhyme': 0.7142857142857143,\n",
       " 'Syllable_Variation': 11.412274094149684,\n",
       " 'Syllables_per_Line': 10.6,\n",
       " 'Syllables_per_Word': 1.1521739130434783,\n",
       " 'Triples_per_Rhyme': 0.0}"
      ]
     },
     "execution_count": 10,
     "metadata": {},
     "output_type": "execute_result"
    }
   ],
   "source": [
    "get_lyrics_stat('/data1/nlp-data/ghostwriter/data/generated_lyrics/lyrics_ngram2_iter1.txt')"
   ]
  },
  {
   "cell_type": "code",
   "execution_count": 24,
   "metadata": {
    "collapsed": false
   },
   "outputs": [],
   "source": [
    "num_iterations = 5\n",
    "ngram_counts = [2,3,4,5,6,7,8,9]\n",
    "stat_key = 'Syllable_Variation'\n",
    "\n",
    "rhyme_data = defaultdict(lambda : np.zeros(num_iterations))\n",
    "\n",
    "for ngram_count in ngram_counts:\n",
    "    for i in range(0,num_iterations):\n",
    "        name = 'lyrics_ngram' + str(ngram_count) + '_iter' + str(i) + '.txt'\n",
    "        filename = os.path.join(generated_song_dir,name)\n",
    "        \n",
    "        stat = get_lyrics_stat(filename)\n",
    "        if stat_key in stat:\n",
    "            rhyme_data[ngram_count][i] = stat[stat_key]\n",
    "        else:\n",
    "            rhyme_data[ngram_count][i] = 0"
   ]
  },
  {
   "cell_type": "code",
   "execution_count": 25,
   "metadata": {
    "collapsed": false
   },
   "outputs": [
    {
     "data": {
      "text/plain": [
       "<matplotlib.text.Text at 0x7f55e6264be0>"
      ]
     },
     "execution_count": 25,
     "metadata": {},
     "output_type": "execute_result"
    },
    {
     "data": {
      "image/png": "[encoded data removed]",
      "text/plain": [
       "<matplotlib.figure.Figure at 0x7f55e63b6128>"
      ]
     },
     "metadata": {},
     "output_type": "display_data"
    }
   ],
   "source": [
    "ax = pd.DataFrame(rhyme_data).mean(0).plot()\n",
    "ax.set_xlabel(\"N-gram\")\n",
    "ax.set_ylabel(\"Syllable Variation\")"
   ]
  },
  {
   "cell_type": "markdown",
   "metadata": {},
   "source": [
    "Cmparasion with fabulos verses\n",
    "================="
   ]
  },
  {
   "cell_type": "code",
   "execution_count": 37,
   "metadata": {
    "collapsed": true
   },
   "outputs": [],
   "source": [
    "ld = LyricsDatabase(lyrics_dir)\n",
    "fabolous_lyrics = ld.get_lyrics_from_artist_as_list_of_verses('fabolous')"
   ]
  },
  {
   "cell_type": "code",
   "execution_count": 51,
   "metadata": {
    "collapsed": false
   },
   "outputs": [],
   "source": [
    "# sample ten random verses\n",
    "shuffle(fabulous_lyrics)\n",
    "\n",
    "test_lyrics = []\n",
    "for l in fabolous_lyrics:\n",
    "    if len(l) > 20:\n",
    "        test_lyrics.append(l)\n",
    "    \n",
    "    if len(test_lyrics) >= 20:\n",
    "        break"
   ]
  },
  {
   "cell_type": "code",
   "execution_count": 92,
   "metadata": {
    "collapsed": false
   },
   "outputs": [],
   "source": [
    "# convert to texts\n",
    "is_skip = lambda s : s == '<startVerse>' or s == '<endVerse>'\n",
    "test_lyrics_texts = [' '.join([t if t != '<endLine>' else '\\n' for t in v if not is_skip(t)]) for v in test_lyrics]"
   ]
  },
  {
   "cell_type": "code",
   "execution_count": 93,
   "metadata": {
    "collapsed": false
   },
   "outputs": [],
   "source": [
    "# save lyrics\n",
    "test_veses_dir = '/data1/nlp-data/ghostwriter/tmp_test_fabolous/'\n",
    "for i,v in enumerate(test_lyrics_texts):\n",
    "    filename = os.path.join(test_veses_dir, 'fabolous_test_' + str(i) + '.txt')\n",
    "    with open(filename, 'w') as f:\n",
    "        f.write(v)"
   ]
  },
  {
   "cell_type": "code",
   "execution_count": 94,
   "metadata": {
    "collapsed": false
   },
   "outputs": [],
   "source": [
    "need_stat_keys = ['Rhyme_Density', 'Syllables_per_Line', 'Syllables_per_Word', 'Perfect_Rhymes']\n",
    "stats = []\n",
    "for f in os.listdir(test_veses_dir):\n",
    "    filename = os.path.join(test_veses_dir, f)\n",
    "    stat = get_lyrics_stat(filename)\n",
    "    \n",
    "    need_stat = {}\n",
    "    for k in need_stat_keys:\n",
    "        if k in stat:\n",
    "            need_stat[k] = stat[k]\n",
    "        else:\n",
    "            need_stat[k] = 0\n",
    "            \n",
    "    stats.append(need_stat)"
   ]
  },
  {
   "cell_type": "code",
   "execution_count": 99,
   "metadata": {
    "collapsed": false
   },
   "outputs": [],
   "source": [
    "stats_data = pd.DataFrame(stats)"
   ]
  },
  {
   "cell_type": "markdown",
   "metadata": {},
   "source": [
    "Fabolous rhymes\n",
    "========="
   ]
  },
  {
   "cell_type": "code",
   "execution_count": 60,
   "metadata": {
    "collapsed": true
   },
   "outputs": [],
   "source": [
    "lstm_generated_lyrics_dir = '/data1/nlp-data/ghostwriter/lstm-gen-lyrics'"
   ]
  },
  {
   "cell_type": "code",
   "execution_count": 73,
   "metadata": {
    "collapsed": true
   },
   "outputs": [],
   "source": [
    "need_iterations = [7100, 7200, 7400, 7600, 7800]\n",
    "need_stat_keys = ['Rhyme_Density', 'Syllables_per_Line', 'Syllables_per_Word', 'Perfect_Rhymes']"
   ]
  },
  {
   "cell_type": "code",
   "execution_count": 85,
   "metadata": {
    "collapsed": false
   },
   "outputs": [],
   "source": [
    "stats_generated = []\n",
    "for i in need_iterations:\n",
    "    filename = os.path.join(lstm_generated_lyrics_dir, 'fabolous' + str(i))\n",
    "    stat = get_lyrics_stat(filename)\n",
    "    \n",
    "    need_stat = {}\n",
    "    for k in need_stat_keys:\n",
    "        if k in stat:\n",
    "            need_stat[k] = stat[k]\n",
    "        else:\n",
    "            need_stat[k] = 0\n",
    "            \n",
    "    stats_generated.append(need_stat)"
   ]
  },
  {
   "cell_type": "code",
   "execution_count": 86,
   "metadata": {
    "collapsed": false
   },
   "outputs": [],
   "source": [
    "stats_data_generated = pd.DataFrame(stats_generated, index=need_iterations)"
   ]
  },
  {
   "cell_type": "code",
   "execution_count": 111,
   "metadata": {
    "collapsed": false
   },
   "outputs": [
    {
     "data": {
      "text/plain": [
       "<matplotlib.text.Text at 0x7f55e4d16080>"
      ]
     },
     "execution_count": 111,
     "metadata": {},
     "output_type": "execute_result"
    },
    {
     "data": {
      "image/png": "[encoded data removed]",
      "text/plain": [
       "<matplotlib.figure.Figure at 0x7f55e4d29630>"
      ]
     },
     "metadata": {},
     "output_type": "display_data"
    }
   ],
   "source": [
    "y1 = y2 = stats_data['Rhyme_Density'].mean()\n",
    "x1 = 7100\n",
    "x2 = 7800\n",
    "plt.figure()\n",
    "plt.plot((x1, x2), (y1, y2))\n",
    "ax = stats_data_generated['Rhyme_Density'].plot()\n",
    "ax.set_xlabel(\"Iteration\")\n",
    "ax.set_ylabel(\"Rhyme density\")"
   ]
  },
  {
   "cell_type": "code",
   "execution_count": 112,
   "metadata": {
    "collapsed": false
   },
   "outputs": [
    {
     "data": {
      "text/plain": [
       "<matplotlib.text.Text at 0x7f55e54d4b00>"
      ]
     },
     "execution_count": 112,
     "metadata": {},
     "output_type": "execute_result"
    },
    {
     "data": {
      "image/png": "[encoded data removed]",
      "text/plain": [
       "<matplotlib.figure.Figure at 0x7f55e53dbfd0>"
      ]
     },
     "metadata": {},
     "output_type": "display_data"
    }
   ],
   "source": [
    "y1 = y2 = stats_data['Perfect_Rhymes'].mean()\n",
    "x1 = 7100\n",
    "x2 = 7800\n",
    "plt.figure()\n",
    "plt.plot((x1, x2), (y1, y2))\n",
    "ax = stats_data_generated['Perfect_Rhymes'].plot()\n",
    "ax.set_xlabel(\"Iteration\")\n",
    "ax.set_ylabel(\"Perfect rhymes\")"
   ]
  },
  {
   "cell_type": "code",
   "execution_count": 113,
   "metadata": {
    "collapsed": false
   },
   "outputs": [
    {
     "data": {
      "text/plain": [
       "<matplotlib.text.Text at 0x7f55e4bb09e8>"
      ]
     },
     "execution_count": 113,
     "metadata": {},
     "output_type": "execute_result"
    },
    {
     "data": {
      "image/png": "[encoded data removed]",
      "text/plain": [
       "<matplotlib.figure.Figure at 0x7f55e4bce080>"
      ]
     },
     "metadata": {},
     "output_type": "display_data"
    }
   ],
   "source": [
    "y1 = y2 = stats_data['Syllables_per_Line'].mean()\n",
    "x1 = 7100\n",
    "x2 = 7800\n",
    "plt.figure()\n",
    "plt.plot((x1, x2), (y1, y2))\n",
    "ax = stats_data_generated['Syllables_per_Line'].plot()\n",
    "ax.set_xlabel(\"Iteration\")\n",
    "ax.set_ylabel(\"Syllables per line\")"
   ]
  },
  {
   "cell_type": "code",
   "execution_count": 114,
   "metadata": {
    "collapsed": false
   },
   "outputs": [
    {
     "data": {
      "text/plain": [
       "<matplotlib.text.Text at 0x7f55e4d27390>"
      ]
     },
     "execution_count": 114,
     "metadata": {},
     "output_type": "execute_result"
    },
    {
     "data": {
      "image/png": "[encoded data removed]",
      "text/plain": [
       "<matplotlib.figure.Figure at 0x7f55e4cf2588>"
      ]
     },
     "metadata": {},
     "output_type": "display_data"
    }
   ],
   "source": [
    "y1 = y2 = stats_data['Syllables_per_Word'].mean()\n",
    "x1 = 7100\n",
    "x2 = 7800\n",
    "plt.figure()\n",
    "plt.plot((x1, x2), (y1, y2))\n",
    "ax = stats_data_generated['Syllables_per_Word'].plot()\n",
    "ax.set_xlabel(\"Iteration\")\n",
    "ax.set_ylabel(\"Syllables per word\")"
   ]
  },
  {
   "cell_type": "code",
   "execution_count": 100,
   "metadata": {
    "collapsed": false
   },
   "outputs": [
    {
     "data": {
      "text/plain": [
       "1.2058258794405083"
      ]
     },
     "execution_count": 100,
     "metadata": {},
     "output_type": "execute_result"
    }
   ],
   "source": [
    "stats_data['Syllables_per_Word'].mean()"
   ]
  },
  {
   "cell_type": "code",
   "execution_count": null,
   "metadata": {
    "collapsed": true
   },
   "outputs": [],
   "source": []
  }
 ],
 "metadata": {
  "kernelspec": {
   "display_name": "Python 3",
   "language": "python",
   "name": "python3"
  },
  "language_info": {
   "codemirror_mode": {
    "name": "ipython",
    "version": 3
   },
   "file_extension": ".py",
   "mimetype": "text/x-python",
   "name": "python",
   "nbconvert_exporter": "python",
   "pygments_lexer": "ipython3",
   "version": "3.4.3"
  }
 },
 "nbformat": 4,
 "nbformat_minor": 0
}
